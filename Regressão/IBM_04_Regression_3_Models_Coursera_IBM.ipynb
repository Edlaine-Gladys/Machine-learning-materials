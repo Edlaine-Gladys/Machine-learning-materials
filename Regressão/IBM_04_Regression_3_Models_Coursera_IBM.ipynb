{
 "cells": [
  {
   "cell_type": "markdown",
   "metadata": {
    "id": "kSJ-hOl1E-YC"
   },
   "source": [
    "<center>\n",
    "    <img src=\"https://s3-api.us-geo.objectstorage.softlayer.net/cf-courses-data/CognitiveClass/Logos/organization_logo/organization_logo.png\" width=\"300\" alt=\"cognitiveclass.ai logo\"  />\n",
    "</center>\n",
    "\n",
    "\n",
    "# Desenvolvimento de Modelo \n",
    "\n",
    "Tempo estimado necessário: 30 minutos\n",
    "\n",
    "## Objetivos\n",
    "\n",
    "Depois de concluir este laboratório, você será capaz de:\n",
    "\n",
    "- Desenvolver modelos de previsão\n"
   ]
  },
  {
   "cell_type": "markdown",
   "metadata": {
    "id": "En0_P1ZEDx5W"
   },
   "source": [
    "<p>Nesta seção, iremos desenvolver vários modelos que irão prever o preço do carro usando as variáveis ​​ou recursos. Esta é apenas uma estimativa, mas deve nos dar uma ideia objetiva de quanto o carro deve custar.</p>\n"
   ]
  },
  {
   "cell_type": "markdown",
   "metadata": {
    "id": "Yzqr2HvUDx5X"
   },
   "source": [
    "Algumas perguntas que queremos fazer neste módulo\n",
    "\n",
    "<ul>\n",
    "    <li>Sei se o revendedor está oferecendo um valor justo pela minha troca?</li>\n",
    "    <li>Sei se atribuo um valor justo ao meu carro?</li>\n",
    "</ul>\n",
    "<p> Em análise de dados, frequentemente usamos o,<b> desenvolvimento de modelo</b> para nos ajudar a prever observações futuras a partir dos dados que temos.\n",
    "</p>\n",
    "\n",
    "<p>Um modelo nos ajudará a entender a relação exata entre as diferentes variáveis ​​e como essas variáveis ​​são usadas para prever o resultado.</p>\n"
   ]
  },
  {
   "cell_type": "markdown",
   "metadata": {
    "id": "BLmeBccrDx5Y"
   },
   "source": [
    "<h4>Configurar</h4>\n"
   ]
  },
  {
   "cell_type": "markdown",
   "metadata": {
    "id": "KFBv5BjCDx5Z"
   },
   "source": [
    " Importando bibliotecas \n"
   ]
  },
  {
   "cell_type": "code",
   "execution_count": 1,
   "metadata": {
    "id": "Jo8HTH8xDx5a"
   },
   "outputs": [],
   "source": [
    "import pandas as pd\n",
    "import numpy as np\n",
    "import matplotlib.pyplot as plt"
   ]
  },
  {
   "cell_type": "markdown",
   "metadata": {
    "id": "kK1G_Cq-Dx5c"
   },
   "source": [
    "Carregar os dados e aaramazenar em um dataframe df:\n"
   ]
  },
  {
   "cell_type": "markdown",
   "metadata": {
    "id": "THSn9ajvDx5c"
   },
   "source": [
    "Este conjunto de dados foi hospedado no objeto IBM Cloud, clique <a href=\"https://cocl.us/DA101EN_object_storage\">aqui</a> para armazenamento gratuito.\n"
   ]
  },
  {
   "cell_type": "code",
   "execution_count": 77,
   "metadata": {
    "id": "wgXGMETtDx5d"
   },
   "outputs": [],
   "source": [
    "# path of data \n",
    "path = 'https://cf-courses-data.s3.us.cloud-object-storage.appdomain.cloud/IBMDeveloperSkillsNetwork-DA0101EN-SkillsNetwork/labs/Data%20files/automobileEDA.csv'\n",
    "#df = pd.read_csv(path)"
   ]
  },
  {
   "cell_type": "code",
   "execution_count": 75,
   "metadata": {},
   "outputs": [],
   "source": [
    "#df.to_csv(\"dados/car.csv\",index=False)"
   ]
  },
  {
   "cell_type": "code",
   "execution_count": 78,
   "metadata": {},
   "outputs": [
    {
     "data": {
      "text/html": [
       "<div>\n",
       "<style scoped>\n",
       "    .dataframe tbody tr th:only-of-type {\n",
       "        vertical-align: middle;\n",
       "    }\n",
       "\n",
       "    .dataframe tbody tr th {\n",
       "        vertical-align: top;\n",
       "    }\n",
       "\n",
       "    .dataframe thead th {\n",
       "        text-align: right;\n",
       "    }\n",
       "</style>\n",
       "<table border=\"1\" class=\"dataframe\">\n",
       "  <thead>\n",
       "    <tr style=\"text-align: right;\">\n",
       "      <th></th>\n",
       "      <th>symboling</th>\n",
       "      <th>normalized-losses</th>\n",
       "      <th>make</th>\n",
       "      <th>aspiration</th>\n",
       "      <th>num-of-doors</th>\n",
       "      <th>body-style</th>\n",
       "      <th>drive-wheels</th>\n",
       "      <th>engine-location</th>\n",
       "      <th>wheel-base</th>\n",
       "      <th>length</th>\n",
       "      <th>...</th>\n",
       "      <th>compression-ratio</th>\n",
       "      <th>horsepower</th>\n",
       "      <th>peak-rpm</th>\n",
       "      <th>city-mpg</th>\n",
       "      <th>highway-mpg</th>\n",
       "      <th>price</th>\n",
       "      <th>city-L/100km</th>\n",
       "      <th>horsepower-binned</th>\n",
       "      <th>diesel</th>\n",
       "      <th>gas</th>\n",
       "    </tr>\n",
       "  </thead>\n",
       "  <tbody>\n",
       "    <tr>\n",
       "      <th>0</th>\n",
       "      <td>3</td>\n",
       "      <td>122</td>\n",
       "      <td>alfa-romero</td>\n",
       "      <td>std</td>\n",
       "      <td>two</td>\n",
       "      <td>convertible</td>\n",
       "      <td>rwd</td>\n",
       "      <td>front</td>\n",
       "      <td>88.6</td>\n",
       "      <td>0.811148</td>\n",
       "      <td>...</td>\n",
       "      <td>9.0</td>\n",
       "      <td>111.0</td>\n",
       "      <td>5000.0</td>\n",
       "      <td>21</td>\n",
       "      <td>27</td>\n",
       "      <td>13495.0</td>\n",
       "      <td>11.190476</td>\n",
       "      <td>Medium</td>\n",
       "      <td>0</td>\n",
       "      <td>1</td>\n",
       "    </tr>\n",
       "    <tr>\n",
       "      <th>1</th>\n",
       "      <td>3</td>\n",
       "      <td>122</td>\n",
       "      <td>alfa-romero</td>\n",
       "      <td>std</td>\n",
       "      <td>two</td>\n",
       "      <td>convertible</td>\n",
       "      <td>rwd</td>\n",
       "      <td>front</td>\n",
       "      <td>88.6</td>\n",
       "      <td>0.811148</td>\n",
       "      <td>...</td>\n",
       "      <td>9.0</td>\n",
       "      <td>111.0</td>\n",
       "      <td>5000.0</td>\n",
       "      <td>21</td>\n",
       "      <td>27</td>\n",
       "      <td>16500.0</td>\n",
       "      <td>11.190476</td>\n",
       "      <td>Medium</td>\n",
       "      <td>0</td>\n",
       "      <td>1</td>\n",
       "    </tr>\n",
       "    <tr>\n",
       "      <th>2</th>\n",
       "      <td>1</td>\n",
       "      <td>122</td>\n",
       "      <td>alfa-romero</td>\n",
       "      <td>std</td>\n",
       "      <td>two</td>\n",
       "      <td>hatchback</td>\n",
       "      <td>rwd</td>\n",
       "      <td>front</td>\n",
       "      <td>94.5</td>\n",
       "      <td>0.822681</td>\n",
       "      <td>...</td>\n",
       "      <td>9.0</td>\n",
       "      <td>154.0</td>\n",
       "      <td>5000.0</td>\n",
       "      <td>19</td>\n",
       "      <td>26</td>\n",
       "      <td>16500.0</td>\n",
       "      <td>12.368421</td>\n",
       "      <td>Medium</td>\n",
       "      <td>0</td>\n",
       "      <td>1</td>\n",
       "    </tr>\n",
       "    <tr>\n",
       "      <th>3</th>\n",
       "      <td>2</td>\n",
       "      <td>164</td>\n",
       "      <td>audi</td>\n",
       "      <td>std</td>\n",
       "      <td>four</td>\n",
       "      <td>sedan</td>\n",
       "      <td>fwd</td>\n",
       "      <td>front</td>\n",
       "      <td>99.8</td>\n",
       "      <td>0.848630</td>\n",
       "      <td>...</td>\n",
       "      <td>10.0</td>\n",
       "      <td>102.0</td>\n",
       "      <td>5500.0</td>\n",
       "      <td>24</td>\n",
       "      <td>30</td>\n",
       "      <td>13950.0</td>\n",
       "      <td>9.791667</td>\n",
       "      <td>Medium</td>\n",
       "      <td>0</td>\n",
       "      <td>1</td>\n",
       "    </tr>\n",
       "    <tr>\n",
       "      <th>4</th>\n",
       "      <td>2</td>\n",
       "      <td>164</td>\n",
       "      <td>audi</td>\n",
       "      <td>std</td>\n",
       "      <td>four</td>\n",
       "      <td>sedan</td>\n",
       "      <td>4wd</td>\n",
       "      <td>front</td>\n",
       "      <td>99.4</td>\n",
       "      <td>0.848630</td>\n",
       "      <td>...</td>\n",
       "      <td>8.0</td>\n",
       "      <td>115.0</td>\n",
       "      <td>5500.0</td>\n",
       "      <td>18</td>\n",
       "      <td>22</td>\n",
       "      <td>17450.0</td>\n",
       "      <td>13.055556</td>\n",
       "      <td>Medium</td>\n",
       "      <td>0</td>\n",
       "      <td>1</td>\n",
       "    </tr>\n",
       "  </tbody>\n",
       "</table>\n",
       "<p>5 rows × 29 columns</p>\n",
       "</div>"
      ],
      "text/plain": [
       "   symboling  normalized-losses         make aspiration num-of-doors  \\\n",
       "0          3                122  alfa-romero        std          two   \n",
       "1          3                122  alfa-romero        std          two   \n",
       "2          1                122  alfa-romero        std          two   \n",
       "3          2                164         audi        std         four   \n",
       "4          2                164         audi        std         four   \n",
       "\n",
       "    body-style drive-wheels engine-location  wheel-base    length  ...  \\\n",
       "0  convertible          rwd           front        88.6  0.811148  ...   \n",
       "1  convertible          rwd           front        88.6  0.811148  ...   \n",
       "2    hatchback          rwd           front        94.5  0.822681  ...   \n",
       "3        sedan          fwd           front        99.8  0.848630  ...   \n",
       "4        sedan          4wd           front        99.4  0.848630  ...   \n",
       "\n",
       "   compression-ratio  horsepower  peak-rpm city-mpg highway-mpg    price  \\\n",
       "0                9.0       111.0    5000.0       21          27  13495.0   \n",
       "1                9.0       111.0    5000.0       21          27  16500.0   \n",
       "2                9.0       154.0    5000.0       19          26  16500.0   \n",
       "3               10.0       102.0    5500.0       24          30  13950.0   \n",
       "4                8.0       115.0    5500.0       18          22  17450.0   \n",
       "\n",
       "  city-L/100km  horsepower-binned  diesel  gas  \n",
       "0    11.190476             Medium       0    1  \n",
       "1    11.190476             Medium       0    1  \n",
       "2    12.368421             Medium       0    1  \n",
       "3     9.791667             Medium       0    1  \n",
       "4    13.055556             Medium       0    1  \n",
       "\n",
       "[5 rows x 29 columns]"
      ]
     },
     "execution_count": 78,
     "metadata": {},
     "output_type": "execute_result"
    }
   ],
   "source": [
    "df = pd.read_csv(\"dados/car.csv\")\n",
    "df.head()"
   ]
  },
  {
   "cell_type": "code",
   "execution_count": 3,
   "metadata": {},
   "outputs": [],
   "source": [
    "#df.dtypes # Verificando os tipos "
   ]
  },
  {
   "cell_type": "markdown",
   "metadata": {
    "id": "pGCi514LDx5f"
   },
   "source": [
    "<h3>1. Regressão Linear e Regressão Linear Múltipla</h3>\n"
   ]
  },
  {
   "cell_type": "markdown",
   "metadata": {
    "id": "k2V2Pt84Dx5f"
   },
   "source": [
    "<h4>Regressão Linear </h4>\n"
   ]
  },
  {
   "cell_type": "markdown",
   "metadata": {
    "id": "G6_h3SjYDx5g"
   },
   "source": [
    "\n",
    "\n",
    "\n",
    "<p>Um exemplo de modelo de dados que usaremos é</p>\n",
    "<b>Regressão linear Simples</b>.\n",
    "\n",
    "<br>\n",
    "<p>A regressão linear simples é um método para nos ajudar a entender a relação entre duas variáveis:</p>\n",
    "<ul>\n",
    "    <li>O preditor / variável independente (X)</li>\n",
    "    <li>A resposta / variável dependente (que queremos prever)</li>\n",
    "</ul>\n",
    "\n",
    "<p>O resultado da regressão linear é uma <b>função linear</b> que prevê a variável de resposta (dependente) como uma função da variável preditora (independente).</p>\n"
   ]
  },
  {
   "cell_type": "markdown",
   "metadata": {
    "id": "Nz1pc-VwDx5h"
   },
   "source": [
    "$$\n",
    " Y: Resposta \\ Variável\\\\\n",
    " X: Preditora \\ Variável\n",
    "$$\n"
   ]
  },
  {
   "cell_type": "markdown",
   "metadata": {
    "id": "Dw4gX3eWDx5h"
   },
   "source": [
    " <b>Linear function:</b>\n",
    "$$\n",
    "Yhat = a + b  X\n",
    "$$\n"
   ]
  },
  {
   "cell_type": "markdown",
   "metadata": {
    "id": "9B9ctWYzDx5i"
   },
   "source": [
    "<ul>\n",
    "    <li>a refere-se à <b>interceptação</b> da linha de regressão 0, ou seja: o valor de Y quando X é 0\n",
    "     <li>b refere-se à<b> inclinação </b>da linha de regressão, em outras palavras: o valor com o qual Y muda quando X aumenta em 1 unidade\n",
    "    </li>\n",
    "</ul>\n"
   ]
  },
  {
   "cell_type": "markdown",
   "metadata": {},
   "source": [
    "\n",
    "\n",
    "<h2>1º Passo: Carregar o modelo</h2>"
   ]
  },
  {
   "cell_type": "markdown",
   "metadata": {
    "id": "CK6c-zypDx5i"
   },
   "source": [
    "Vamos carregar o modelo de regressão\n"
   ]
  },
  {
   "cell_type": "code",
   "execution_count": 4,
   "metadata": {
    "id": "wcV09pBWDx5j"
   },
   "outputs": [],
   "source": [
    "# Não precisa importar a biblioteca toda, apenas a regressão linear.\n",
    "\n",
    "from sklearn.linear_model import LinearRegression"
   ]
  },
  {
   "cell_type": "markdown",
   "metadata": {},
   "source": [
    "<h2> 2º passo:Criar o objeto de regressão linear </h2>\n"
   ]
  },
  {
   "cell_type": "code",
   "execution_count": 5,
   "metadata": {
    "id": "g7-2FPuSDx5k"
   },
   "outputs": [
    {
     "data": {
      "text/plain": [
       "LinearRegression()"
      ]
     },
     "execution_count": 5,
     "metadata": {},
     "output_type": "execute_result"
    }
   ],
   "source": [
    "lm = LinearRegression()\n",
    "lm"
   ]
  },
  {
   "cell_type": "markdown",
   "metadata": {},
   "source": [
    "# Situação 01"
   ]
  },
  {
   "cell_type": "markdown",
   "metadata": {
    "id": "3UfoSgJjDx5k"
   },
   "source": [
    "<h4>Como a  variavel Highway-mpg pode nos ajudar a prever o preço do carro?</h4>\n"
   ]
  },
  {
   "cell_type": "markdown",
   "metadata": {
    "id": "EsTpdD0PDx5l"
   },
   "source": [
    "Para este exemplo, queremos ver como a highway-mpg pode nos ajudar a prever o preço do carro. Usando a regressão linear simples, criaremos uma função linear com \"highway-mpg\" como a variável preditora e o \"preço\" como a variável de resposta.\n",
    "\n",
    " Essa variavel representa o consumo de combustivel.\n"
   ]
  },
  {
   "cell_type": "code",
   "execution_count": 6,
   "metadata": {},
   "outputs": [
    {
     "data": {
      "text/html": [
       "<div>\n",
       "<style scoped>\n",
       "    .dataframe tbody tr th:only-of-type {\n",
       "        vertical-align: middle;\n",
       "    }\n",
       "\n",
       "    .dataframe tbody tr th {\n",
       "        vertical-align: top;\n",
       "    }\n",
       "\n",
       "    .dataframe thead th {\n",
       "        text-align: right;\n",
       "    }\n",
       "</style>\n",
       "<table border=\"1\" class=\"dataframe\">\n",
       "  <thead>\n",
       "    <tr style=\"text-align: right;\">\n",
       "      <th></th>\n",
       "      <th>highway-mpg</th>\n",
       "      <th>price</th>\n",
       "    </tr>\n",
       "  </thead>\n",
       "  <tbody>\n",
       "    <tr>\n",
       "      <th>0</th>\n",
       "      <td>27</td>\n",
       "      <td>13495.0</td>\n",
       "    </tr>\n",
       "    <tr>\n",
       "      <th>1</th>\n",
       "      <td>27</td>\n",
       "      <td>16500.0</td>\n",
       "    </tr>\n",
       "    <tr>\n",
       "      <th>2</th>\n",
       "      <td>26</td>\n",
       "      <td>16500.0</td>\n",
       "    </tr>\n",
       "    <tr>\n",
       "      <th>3</th>\n",
       "      <td>30</td>\n",
       "      <td>13950.0</td>\n",
       "    </tr>\n",
       "    <tr>\n",
       "      <th>4</th>\n",
       "      <td>22</td>\n",
       "      <td>17450.0</td>\n",
       "    </tr>\n",
       "    <tr>\n",
       "      <th>...</th>\n",
       "      <td>...</td>\n",
       "      <td>...</td>\n",
       "    </tr>\n",
       "    <tr>\n",
       "      <th>196</th>\n",
       "      <td>28</td>\n",
       "      <td>16845.0</td>\n",
       "    </tr>\n",
       "    <tr>\n",
       "      <th>197</th>\n",
       "      <td>25</td>\n",
       "      <td>19045.0</td>\n",
       "    </tr>\n",
       "    <tr>\n",
       "      <th>198</th>\n",
       "      <td>23</td>\n",
       "      <td>21485.0</td>\n",
       "    </tr>\n",
       "    <tr>\n",
       "      <th>199</th>\n",
       "      <td>27</td>\n",
       "      <td>22470.0</td>\n",
       "    </tr>\n",
       "    <tr>\n",
       "      <th>200</th>\n",
       "      <td>25</td>\n",
       "      <td>22625.0</td>\n",
       "    </tr>\n",
       "  </tbody>\n",
       "</table>\n",
       "<p>201 rows × 2 columns</p>\n",
       "</div>"
      ],
      "text/plain": [
       "     highway-mpg    price\n",
       "0             27  13495.0\n",
       "1             27  16500.0\n",
       "2             26  16500.0\n",
       "3             30  13950.0\n",
       "4             22  17450.0\n",
       "..           ...      ...\n",
       "196           28  16845.0\n",
       "197           25  19045.0\n",
       "198           23  21485.0\n",
       "199           27  22470.0\n",
       "200           25  22625.0\n",
       "\n",
       "[201 rows x 2 columns]"
      ]
     },
     "execution_count": 6,
     "metadata": {},
     "output_type": "execute_result"
    }
   ],
   "source": [
    "df[['highway-mpg','price']]"
   ]
  },
  {
   "cell_type": "code",
   "execution_count": 7,
   "metadata": {
    "id": "nFO5_rPkDx5l"
   },
   "outputs": [],
   "source": [
    "# Criando objeto\n",
    "\n",
    "X = df[['highway-mpg']] # variável preditora \n",
    "Y = df[['price']] # variável alvo "
   ]
  },
  {
   "cell_type": "markdown",
   "metadata": {
    "id": "9HJQPKhoDx5m"
   },
   "source": [
    "\n",
    "### Ajustando o modelo linear \n"
   ]
  },
  {
   "cell_type": "code",
   "execution_count": 8,
   "metadata": {
    "id": "pZ7JelU_Dx5m"
   },
   "outputs": [
    {
     "data": {
      "text/plain": [
       "LinearRegression()"
      ]
     },
     "execution_count": 8,
     "metadata": {},
     "output_type": "execute_result"
    }
   ],
   "source": [
    "lm.fit(X,Y)\n",
    "\n",
    "# Ou assim:\n",
    "\n",
    "#lm.fit(df[['highway-mpg']],df[['price']])\n"
   ]
  },
  {
   "cell_type": "markdown",
   "metadata": {
    "id": "_oYsYfYTDx5n"
   },
   "source": [
    "### Obtendo uma previsão \n",
    "Podemos obter predição usando o método ```predict```. A saída é uma matriz. \n",
    "O array possui o mesmo número de amostras que a entrada x. faremos um slice para a saída  \n",
    "ficar um pouco menor ```Yhat[0:5]```\n"
   ]
  },
  {
   "cell_type": "code",
   "execution_count": 9,
   "metadata": {
    "id": "J_-8U9LtDx5n"
   },
   "outputs": [
    {
     "data": {
      "text/plain": [
       "array([[16236.50464347],\n",
       "       [16236.50464347],\n",
       "       [17058.23802179],\n",
       "       [13771.3045085 ],\n",
       "       [20345.17153508]])"
      ]
     },
     "execution_count": 9,
     "metadata": {},
     "output_type": "execute_result"
    }
   ],
   "source": [
    "# Yhat=lm.predict(df[['highway-mpg']])\n",
    "\n",
    "# Ou assim:\n",
    "\n",
    "Yhat=lm.predict(df[['highway-mpg']])\n",
    "Yhat[0:5] \n"
   ]
  },
  {
   "cell_type": "markdown",
   "metadata": {
    "id": "J3GIdHKGDx5o"
   },
   "source": [
    "<h2>Qual o valor da interceptação?</h2>\n",
    "\n",
    "Pensando em função é o valor de b, é quando a reta intercepta o eixo y, neste  caso \n",
    "o valor é positivo, logo a reta é decrescente.\n"
   ]
  },
  {
   "cell_type": "code",
   "execution_count": 10,
   "metadata": {
    "id": "SGzkqcSYDx5o"
   },
   "outputs": [
    {
     "data": {
      "text/plain": [
       "array([38423.30585816])"
      ]
     },
     "execution_count": 10,
     "metadata": {},
     "output_type": "execute_result"
    }
   ],
   "source": [
    "lm.intercept_"
   ]
  },
  {
   "cell_type": "markdown",
   "metadata": {
    "id": "CjLwWtZCDx5p"
   },
   "source": [
    "<h3> Qual o valor da inclinação?</h3>\n",
    "\n",
    "Pensando em função é coeficiente angular da reta.\n"
   ]
  },
  {
   "cell_type": "code",
   "execution_count": 11,
   "metadata": {
    "id": "8LnNSZg5Dx5p",
    "scrolled": true
   },
   "outputs": [
    {
     "data": {
      "text/plain": [
       "array([[-821.73337832]])"
      ]
     },
     "execution_count": 11,
     "metadata": {},
     "output_type": "execute_result"
    }
   ],
   "source": [
    "lm.coef_"
   ]
  },
  {
   "cell_type": "markdown",
   "metadata": {
    "id": "Ltg5xOcEDx5q"
   },
   "source": [
    "<h2>Qual é o modelo linear estimado final que obtemos?</h2>\n"
   ]
  },
  {
   "cell_type": "markdown",
   "metadata": {
    "id": "_k_zOjWcDx5q"
   },
   "source": [
    "Como vimos acima, devemos obter um modelo linear final com a estrutura:"
   ]
  },
  {
   "cell_type": "markdown",
   "metadata": {
    "id": "SmFdw4mDDx5r"
   },
   "source": [
    "$$\n",
    "Yhat = a + b  X\n",
    "$$\n"
   ]
  },
  {
   "cell_type": "markdown",
   "metadata": {
    "id": "62qdtfBbDx5s"
   },
   "source": [
    "Conectando os valores reais, obtemos:\n"
   ]
  },
  {
   "cell_type": "markdown",
   "metadata": {
    "id": "CayM0v7KDx5s"
   },
   "source": [
    "# <b>price</b> = 38423.31 - 821.73 x  <b>highway-mpg</b>\n"
   ]
  },
  {
   "cell_type": "markdown",
   "metadata": {
    "id": "aAqX892fDx5t"
   },
   "source": [
    "<div class=\"alert alert-danger alertdanger\" style=\"margin-top: 20px\">\n",
    "<h1>Questão 1 a): </h1>\n",
    "\n",
    "<b>Criar um objeto de regressão linear.</b>\n",
    "\n",
    "</div>\n"
   ]
  },
  {
   "cell_type": "code",
   "execution_count": 12,
   "metadata": {
    "id": "v3XBqedMDx5t"
   },
   "outputs": [
    {
     "data": {
      "text/plain": [
       "LinearRegression()"
      ]
     },
     "execution_count": 12,
     "metadata": {},
     "output_type": "execute_result"
    }
   ],
   "source": [
    "# Escreva seu código abaixo e pressione Shift + Enter para executar\n",
    "# Apenas variável\n",
    "\n",
    "lm1=LinearRegression()\n",
    "lm1"
   ]
  },
  {
   "cell_type": "markdown",
   "metadata": {
    "id": "MlgGu3TKDx5u"
   },
   "source": [
    "<details><summary>Click here for the solution</summary>\n",
    "\n",
    "```python\n",
    "lm1 = LinearRegression()\n",
    "lm1\n",
    "```\n",
    "\n",
    "</details>\n"
   ]
  },
  {
   "cell_type": "markdown",
   "metadata": {},
   "source": [
    "<div class=\"alert alert-danger alertdanger\" style=\"margin-top: 20px\">\n",
    "<h1>Questão 1 b): </h1>\n",
    "\n",
    "<b>Treinar o modelo usando  'engine-size' (tamanho do motor) como variável independente e 'preço' (price) como variável dependente.</b>\n",
    "\n",
    "</div>"
   ]
  },
  {
   "cell_type": "code",
   "execution_count": 13,
   "metadata": {},
   "outputs": [
    {
     "data": {
      "text/plain": [
       "dtype('int64')"
      ]
     },
     "execution_count": 13,
     "metadata": {},
     "output_type": "execute_result"
    }
   ],
   "source": [
    "df.dtypes['engine-size']"
   ]
  },
  {
   "cell_type": "code",
   "execution_count": 14,
   "metadata": {
    "id": "7YOxrBr3Dx5v"
   },
   "outputs": [
    {
     "data": {
      "text/plain": [
       "LinearRegression()"
      ]
     },
     "execution_count": 14,
     "metadata": {},
     "output_type": "execute_result"
    }
   ],
   "source": [
    "# Escreva seu código abaixo e pressione Shift + Enter para executar\n",
    "\n",
    "x=df[['engine-size']]\n",
    "y=df[['price']]\n",
    "\n",
    "lm1.fit(x,y)\n",
    "\n",
    "# também pode  ser assim:\n",
    "#lm1.fit(df[['engine-size']],df[['price']])\n"
   ]
  },
  {
   "cell_type": "markdown",
   "metadata": {
    "id": "TCQa8lWLDx5v"
   },
   "source": [
    "<details><summary>Click here for the solution</summary>\n",
    "\n",
    "```python\n",
    "lm1.fit(df[['engine-size']], df[['price']])\n",
    "lm1\n",
    "```\n",
    "\n",
    "</details>\n"
   ]
  },
  {
   "cell_type": "markdown",
   "metadata": {
    "id": "HD9yC82qDx5w"
   },
   "source": [
    "<div class=\"alert alert-danger alertdanger\" style=\"margin-top: 20px\">\n",
    "<h1>Questão 1 c):</h1>\n",
    "\n",
    "<b>Encontre a inclinação e a interceptação do modelo</b>\n",
    "\n",
    "</div>\n"
   ]
  },
  {
   "cell_type": "markdown",
   "metadata": {
    "id": "otss6Ra1Dx5w"
   },
   "source": [
    "<h4>Declive</h4>\n",
    "coeficiente\n"
   ]
  },
  {
   "cell_type": "code",
   "execution_count": 15,
   "metadata": {
    "id": "tGYMo_LcDx5x"
   },
   "outputs": [
    {
     "data": {
      "text/plain": [
       "array([[166.86001569]])"
      ]
     },
     "execution_count": 15,
     "metadata": {},
     "output_type": "execute_result"
    }
   ],
   "source": [
    "# Escreva seu código abaixo e pressione Shift + Enter para executar\n",
    "\n",
    "lm1.coef_"
   ]
  },
  {
   "cell_type": "markdown",
   "metadata": {
    "id": "iWhUorzNDx5x"
   },
   "source": [
    "<h4>Intercept</h4>\n"
   ]
  },
  {
   "cell_type": "code",
   "execution_count": 16,
   "metadata": {
    "id": "QovN_uw8Dx5x"
   },
   "outputs": [
    {
     "data": {
      "text/plain": [
       "array([-7963.33890628])"
      ]
     },
     "execution_count": 16,
     "metadata": {},
     "output_type": "execute_result"
    }
   ],
   "source": [
    "# Escreva seu código abaixo e pressione Shift + Enter para executar\n",
    "\n",
    "lm1.intercept_"
   ]
  },
  {
   "cell_type": "markdown",
   "metadata": {
    "id": "6bEaT12rDx5y"
   },
   "source": [
    "<details><summary>Click here for the solution</summary>\n",
    "\n",
    "```python\n",
    "# Slope \n",
    "lm1.coef_\n",
    "\n",
    "# Intercept\n",
    "lm1.intercept_\n",
    "```\n",
    "\n",
    "</details>\n"
   ]
  },
  {
   "cell_type": "markdown",
   "metadata": {
    "id": "UU6teNmSDx5y"
   },
   "source": [
    "<div class=\"alert alert-danger alertdanger\" style=\"margin-top: 20px\">\n",
    "<h1>Questão #1 d): </h1>\n",
    "\n",
    "<b>Qual é a equação prevista. Pode usar x e yhat ou 'engine-size' ou 'price'</b>\n",
    "\n",
    "</div>\n"
   ]
  },
  {
   "cell_type": "code",
   "execution_count": 17,
   "metadata": {
    "id": "PBdgQ7N7Dx5z"
   },
   "outputs": [],
   "source": [
    "# Escreva seu código abaixo e pressione Shift + Enter para executar\n",
    "\n",
    "yhat= -7963.34 + 166.86*X\n",
    "\n",
    "# Ou assim:\n",
    "\n",
    "#Price=-7963.34 + 166.86*engine-size"
   ]
  },
  {
   "cell_type": "markdown",
   "metadata": {
    "id": "_ersdZvbDx5z"
   },
   "source": [
    "<details><summary>Click here for the solution</summary>\n",
    "\n",
    "```python\n",
    "# using X and Y  \n",
    "Yhat=-7963.34 + 166.86*X\n",
    "\n",
    "Price=-7963.34 + 166.86*engine-size\n",
    "\n",
    "```\n",
    "\n",
    "</details>\n"
   ]
  },
  {
   "cell_type": "markdown",
   "metadata": {},
   "source": [
    "# Situação 02"
   ]
  },
  {
   "cell_type": "markdown",
   "metadata": {
    "id": "yiGP1u8LDx50"
   },
   "source": [
    "<h3>Regressão Linear Multípla</h3>\n"
   ]
  },
  {
   "cell_type": "markdown",
   "metadata": {
    "id": "UaDfbcglDx50"
   },
   "source": [
    "<p>E se quisermos prever o preço do carro usando mais de uma variável?</p>\n",
    "\n",
    "<p>Se quisermos usar mais variáveis ​​em nosso modelo para prever o preço do carro, podemos usar a <b>Regressão Linear Múltipla</b>.</p>\n",
    "<p>A Regressão Linear Múltipla é muito semelhante à Regressão Linear Simples, mas este método é usado para explicar a relação entre uma variável de resposta contínua (dependente) e  <b>duas ou mais </b> preditoras (independentes).<p> A maioria dos modelos de regressão do mundo real envolve vários preditores. Ilustraremos a estrutura usando quatro variáveis ​​preditoras, mas esses resultados podem ser generalizados para qualquer número inteiro</p>\n"
   ]
  },
  {
   "cell_type": "markdown",
   "metadata": {
    "id": "RnY2IexkDx51"
   },
   "source": [
    "$$\n",
    "Y: Response \\ Variable\\\\\n",
    "X_1 :Predictor\\ Variable \\ 1\\\\\n",
    "X_2: Predictor\\ Variable \\ 2\\\\\n",
    "X_3: Predictor\\ Variable \\ 3\\\\\n",
    "X_4: Predictor\\ Variable \\ 4\\\\\n",
    "$$\n"
   ]
  },
  {
   "cell_type": "markdown",
   "metadata": {
    "id": "usRNxwePDx51"
   },
   "source": [
    "$$\n",
    "a: intercept\\\\\n",
    "b_1 :coefficients \\ of\\ Variable \\ 1\\\\\n",
    "b_2: coefficients \\ of\\ Variable \\ 2\\\\\n",
    "b_3: coefficients \\ of\\ Variable \\ 3\\\\\n",
    "b_4: coefficients \\ of\\ Variable \\ 4\\\\\n",
    "$$\n"
   ]
  },
  {
   "cell_type": "markdown",
   "metadata": {
    "id": "TXv2mbzyDx52"
   },
   "source": [
    "A equação é dada por:\n"
   ]
  },
  {
   "cell_type": "markdown",
   "metadata": {
    "id": "mAjkScVeDx52"
   },
   "source": [
    "$$\n",
    "Yhat = a + b_1 X_1 + b_2 X_2 + b_3 X_3 + b_4 X_4\n",
    "$$\n"
   ]
  },
  {
   "cell_type": "markdown",
   "metadata": {
    "id": "nD7EYTn7Dx53"
   },
   "source": [
    "<p>Da seção anterior, sabemos que outros bons preditores de preço podem ser:</p>\n",
    "<ul>\n",
    "    <li>Horsepower(Potência)</li>\n",
    "    <li>Curb-weight(Peso-meio-fio)</li>\n",
    "    <li>Engine-size(Tamanho do motor)</li>\n",
    "    <li>Highway-mpg(Highway-mpg)</li>\n",
    "</ul>\n",
    "Vamos desenvolver um modelo usando essas variáveis ​​como variáveis ​​preditoras.\n"
   ]
  },
  {
   "cell_type": "code",
   "execution_count": 18,
   "metadata": {
    "id": "0qTgBN0ZDx53"
   },
   "outputs": [
    {
     "data": {
      "text/plain": [
       "horsepower     float64\n",
       "curb-weight      int64\n",
       "engine-size      int64\n",
       "highway-mpg      int64\n",
       "dtype: object"
      ]
     },
     "execution_count": 18,
     "metadata": {},
     "output_type": "execute_result"
    }
   ],
   "source": [
    "Z = df[['horsepower', 'curb-weight', 'engine-size', 'highway-mpg']]\n",
    "Z.dtypes"
   ]
  },
  {
   "cell_type": "markdown",
   "metadata": {
    "id": "GiKC6WSJDx54"
   },
   "source": [
    "Ajustando o modelo linear usando as quatro variáveis ​​mencionadas acima.\n",
    "Não se esqueça que tem dois parâmetros. a entrada e a saída , neste caso a target \"price\"."
   ]
  },
  {
   "cell_type": "code",
   "execution_count": 19,
   "metadata": {
    "id": "jQIGBuAZDx54"
   },
   "outputs": [
    {
     "data": {
      "text/plain": [
       "LinearRegression()"
      ]
     },
     "execution_count": 19,
     "metadata": {},
     "output_type": "execute_result"
    }
   ],
   "source": [
    "lm.fit(Z,df[[\"price\"]])"
   ]
  },
  {
   "cell_type": "markdown",
   "metadata": {
    "id": "7hd7iwGpDx54"
   },
   "source": [
    "Qual o valor do intercept(a)?\n"
   ]
  },
  {
   "cell_type": "code",
   "execution_count": 20,
   "metadata": {
    "id": "3BkcSJMdDx55"
   },
   "outputs": [
    {
     "data": {
      "text/plain": [
       "array([-15806.62462633])"
      ]
     },
     "execution_count": 20,
     "metadata": {},
     "output_type": "execute_result"
    }
   ],
   "source": [
    "lm.intercept_"
   ]
  },
  {
   "cell_type": "markdown",
   "metadata": {
    "id": "Mleg14Y9Dx55"
   },
   "source": [
    "Qual os valores dos coeficientes (b1, b2, b3, b4)?\n"
   ]
  },
  {
   "cell_type": "code",
   "execution_count": 21,
   "metadata": {
    "id": "Xjo8eXLuDx56"
   },
   "outputs": [
    {
     "data": {
      "text/plain": [
       "array([[53.49574423,  4.70770099, 81.53026382, 36.05748882]])"
      ]
     },
     "execution_count": 21,
     "metadata": {},
     "output_type": "execute_result"
    }
   ],
   "source": [
    "lm.coef_"
   ]
  },
  {
   "cell_type": "markdown",
   "metadata": {
    "id": "yp4kiv5wDx56"
   },
   "source": [
    " Qual é o modelo linear estimado final que obtivemos?\n"
   ]
  },
  {
   "cell_type": "markdown",
   "metadata": {
    "id": "M9KXIZ72Dx56"
   },
   "source": [
    "Como vimos acima, devemos obter uma função linear final com a estrutura:\n",
    "\n",
    "$$\n",
    "Yhat = a + b_1 X_1 + b_2 X_2 + b_3 X_3 + b_4 X_4\n",
    "$$\n",
    "\n",
    "Qual é a função linear que obtemos neste exemplo?\n"
   ]
  },
  {
   "cell_type": "markdown",
   "metadata": {
    "id": "yprF9AVpDx57"
   },
   "source": [
    "<b>Price</b> = -15678.742628061467 + 53.65851272 x <b>horsepower</b> + 4.7878948 x <b>curb-weight</b> + 81.95906216 x <b>engine-size</b> + 33.58258185 x <b>highway-mpg</b>\n"
   ]
  },
  {
   "cell_type": "markdown",
   "metadata": {
    "id": "BmLIklSWDx58"
   },
   "source": [
    "<div class=\"alert alert-danger alertdanger\" style=\"margin-top: 20px\">\n",
    "<h1> Question  2 a): </h1>\n",
    "Crie e treine um modelo de Regressão Linear Múltipla \"lm2\" onde a variável de resposta é o \"price\" e a variável preditora é 'normalized-losses' e 'highway-mpg'.\n",
    "</div>\n"
   ]
  },
  {
   "cell_type": "code",
   "execution_count": 22,
   "metadata": {},
   "outputs": [
    {
     "data": {
      "text/plain": [
       "pandas.core.frame.DataFrame"
      ]
     },
     "execution_count": 22,
     "metadata": {},
     "output_type": "execute_result"
    }
   ],
   "source": [
    "x=df[['normalized-losses','highway-mpg'] ]\n",
    "type(x)"
   ]
  },
  {
   "cell_type": "code",
   "execution_count": 23,
   "metadata": {
    "id": "L8g8R80XDx59"
   },
   "outputs": [
    {
     "data": {
      "text/plain": [
       "LinearRegression()"
      ]
     },
     "execution_count": 23,
     "metadata": {},
     "output_type": "execute_result"
    }
   ],
   "source": [
    "# Escreva seu código abaixo e pressione Shift + Enter para executar\n",
    "\n",
    "lm2=LinearRegression()\n",
    "\n",
    "lm2.fit(df[['normalized-losses','highway-mpg'] ],df[['price']])\n",
    "\n",
    "\n"
   ]
  },
  {
   "cell_type": "markdown",
   "metadata": {
    "id": "6cnoINvaDx5_"
   },
   "source": [
    "<details><summary>Click here for the solution</summary>\n",
    "\n",
    "```python\n",
    "lm2 = LinearRegression()\n",
    "lm2.fit(df[['normalized-losses' , 'highway-mpg']],df['price'])\n",
    "\n",
    "\n",
    "```\n",
    "\n",
    "</details>\n"
   ]
  },
  {
   "cell_type": "markdown",
   "metadata": {
    "id": "4UA8IeBUDx6A"
   },
   "source": [
    "<div class=\"alert alert-danger alertdanger\" style=\"margin-top: 20px\">\n",
    "<h1>Question  2 b): </h1>\n",
    "<b>Qual o coeficiente do modelo?</b>\n",
    "</div>\n"
   ]
  },
  {
   "cell_type": "code",
   "execution_count": 24,
   "metadata": {
    "id": "Mj6gbDdEDx6A"
   },
   "outputs": [
    {
     "data": {
      "text/plain": [
       "array([[   1.49789586, -820.45434016]])"
      ]
     },
     "execution_count": 24,
     "metadata": {},
     "output_type": "execute_result"
    }
   ],
   "source": [
    "# Escreva seu código abaixo e pressione Shift + Enter para executar\n",
    "\n",
    "# São dois por que são duas variáveis \n",
    "\n",
    "lm2.coef_"
   ]
  },
  {
   "cell_type": "markdown",
   "metadata": {
    "id": "sT8-4lU4Dx6B"
   },
   "source": [
    "<details><summary>Click here for the solution</summary>\n",
    "\n",
    "```python\n",
    "lm2.coef_\n",
    "\n",
    "```\n",
    "\n",
    "</details>\n"
   ]
  },
  {
   "cell_type": "markdown",
   "metadata": {
    "id": "2HkwsbX1Dx6C"
   },
   "source": [
    "<h3>2)  Avaliação de modelo usando visualização</h3>\n"
   ]
  },
  {
   "cell_type": "markdown",
   "metadata": {
    "id": "NWwHNNWwDx6C"
   },
   "source": [
    "Agora que desenvolvemos alguns modelos, como avaliamos nossos modelos e como escolhemos o melhor? Uma maneira de fazer isso é usando a visualização.\n"
   ]
  },
  {
   "cell_type": "markdown",
   "metadata": {
    "id": "q8FplDKPDx6D"
   },
   "source": [
    "Importe o pacote de visualização: seaborn\n"
   ]
  },
  {
   "cell_type": "code",
   "execution_count": 25,
   "metadata": {
    "id": "HBVJlGRhDx6E"
   },
   "outputs": [],
   "source": [
    "# import the visualization package: seaborn\n",
    "import seaborn as sns\n",
    "%matplotlib inline "
   ]
  },
  {
   "cell_type": "markdown",
   "metadata": {
    "id": "CX7h1EgdDx6E"
   },
   "source": [
    "<h2>Gráfico de Regressão</h2>\n"
   ]
  },
  {
   "cell_type": "markdown",
   "metadata": {
    "id": "PvZs7tqKDx6F"
   },
   "source": [
    "<p>Quando se trata de regressão linear simples, uma excelente maneira de visualizar o ajuste de nosso modelo é usando  <b>gráficos de regressão .</b>.</p>\n",
    "\n",
    "<p>Este gráfico mostrará uma combinação de pontos de dados dispersos (um  <b>scatter plot</b>), bem como a <b>reta de regressão linear</b>ajustada passando pelos dados. Isso nos dará uma estimativa razoável da relação entre as duas variáveis, a força da correlação, bem como a direção (correlação positiva ou negativa).</p>\n"
   ]
  },
  {
   "cell_type": "markdown",
   "metadata": {
    "id": "0WR7TdjdDx6G"
   },
   "source": [
    "Vamos visualizar **highway-mpg** como variável preditor potencial de preço:\n",
    "\n",
    "\n"
   ]
  },
  {
   "cell_type": "code",
   "execution_count": 26,
   "metadata": {
    "id": "fJ28HcwnDx6H",
    "scrolled": false
   },
   "outputs": [
    {
     "data": {
      "text/plain": [
       "(0.0, 48181.423152312156)"
      ]
     },
     "execution_count": 26,
     "metadata": {},
     "output_type": "execute_result"
    },
    {
     "data": {
      "image/png": "[encoded data removed]",
      "text/plain": [
       "<Figure size 360x288 with 1 Axes>"
      ]
     },
     "metadata": {
      "needs_background": "light"
     },
     "output_type": "display_data"
    }
   ],
   "source": [
    "width =5\n",
    "height =4\n",
    "plt.figure(figsize=(width, height))\n",
    "sns.regplot(x=\"highway-mpg\", y=\"price\", data=df)\n",
    "plt.ylim(0,)"
   ]
  },
  {
   "cell_type": "markdown",
   "metadata": {
    "id": "2AfyFJmLDx6H"
   },
   "source": [
    "<p>Podemos ver neste gráfico que o preço está negativamente correlacionado ao\"peak-rpm\", uma vez que a inclinação da regressão é negativa. </p>\n",
    "<p>Uma coisa a ter em mente ao examinar um gráfico de regressão é prestar atenção em como os pontos de dados estão espalhados ao redor da linha de regressão. Isso lhe dará uma boa indicação da variância dos dados e se um modelo linear seria o melhor ajuste ou não.</p>\n",
    "<p> Se os dados estiverem muito distantes da reta, este modelo linear pode não ser o melhor modelo para esses dados. Vamos comparar este gráfico com o gráfico de regressão de \"highway-mpg\".</p>\n"
   ]
  },
  {
   "cell_type": "code",
   "execution_count": 27,
   "metadata": {
    "id": "_UP72F4rDx6I"
   },
   "outputs": [
    {
     "data": {
      "text/plain": [
       "(0.0, 47414.1)"
      ]
     },
     "execution_count": 27,
     "metadata": {},
     "output_type": "execute_result"
    },
    {
     "data": {
      "image/png": "[encoded data removed]",
      "text/plain": [
       "<Figure size 360x288 with 1 Axes>"
      ]
     },
     "metadata": {
      "needs_background": "light"
     },
     "output_type": "display_data"
    }
   ],
   "source": [
    "width = 5\n",
    "height = 4\n",
    "plt.figure(figsize=(width, height))\n",
    "sns.regplot(x=\"peak-rpm\", y=\"price\", data=df)\n",
    "plt.ylim(0,)"
   ]
  },
  {
   "cell_type": "markdown",
   "metadata": {
    "id": "hGG7GCcBDx6I"
   },
   "source": [
    "<p>Comparando o gráfico de regressão de  \"peak-rpm\" e  \"highway-mpg\", vemos que os pontos de \"highway-mpg\" estão muito mais próximos da linha gerada e na diminuição média.</p>\n",
    "<p> Os pontos para \"peak-rpm\" estão mais espalhados ao redor da linha prevista e é muito mais difícil determinar se os pontos estão diminuindo ou aumentando à medida que a \"highway-mpg\" aumenta.</p>\n"
   ]
  },
  {
   "cell_type": "markdown",
   "metadata": {
    "id": "D-rQUpGEDx6J"
   },
   "source": [
    "<div class=\"alert alert-danger alertdanger\" style=\"margin-top: 20px\">\n",
    "<h1>Question 3:</h1>\n",
    "<b>Dados os gráficos de regressão acima, \"peak-rpm\" e o  \"highway-mpg\"  verifique qual está mais fortemente correlacionado com \"price\". Use o método \".corr ()\" para verificar sua resposta.</b>\n",
    "</div>\n"
   ]
  },
  {
   "cell_type": "code",
   "execution_count": 28,
   "metadata": {
    "id": "wxJwz-bIDx6J"
   },
   "outputs": [
    {
     "data": {
      "text/html": [
       "<div>\n",
       "<style scoped>\n",
       "    .dataframe tbody tr th:only-of-type {\n",
       "        vertical-align: middle;\n",
       "    }\n",
       "\n",
       "    .dataframe tbody tr th {\n",
       "        vertical-align: top;\n",
       "    }\n",
       "\n",
       "    .dataframe thead th {\n",
       "        text-align: right;\n",
       "    }\n",
       "</style>\n",
       "<table border=\"1\" class=\"dataframe\">\n",
       "  <thead>\n",
       "    <tr style=\"text-align: right;\">\n",
       "      <th></th>\n",
       "      <th>peak-rpm</th>\n",
       "      <th>highway-mpg</th>\n",
       "      <th>price</th>\n",
       "    </tr>\n",
       "  </thead>\n",
       "  <tbody>\n",
       "    <tr>\n",
       "      <th>peak-rpm</th>\n",
       "      <td>1.000000</td>\n",
       "      <td>-0.058598</td>\n",
       "      <td>-0.101616</td>\n",
       "    </tr>\n",
       "    <tr>\n",
       "      <th>highway-mpg</th>\n",
       "      <td>-0.058598</td>\n",
       "      <td>1.000000</td>\n",
       "      <td>-0.704692</td>\n",
       "    </tr>\n",
       "    <tr>\n",
       "      <th>price</th>\n",
       "      <td>-0.101616</td>\n",
       "      <td>-0.704692</td>\n",
       "      <td>1.000000</td>\n",
       "    </tr>\n",
       "  </tbody>\n",
       "</table>\n",
       "</div>"
      ],
      "text/plain": [
       "             peak-rpm  highway-mpg     price\n",
       "peak-rpm     1.000000    -0.058598 -0.101616\n",
       "highway-mpg -0.058598     1.000000 -0.704692\n",
       "price       -0.101616    -0.704692  1.000000"
      ]
     },
     "execution_count": 28,
     "metadata": {},
     "output_type": "execute_result"
    }
   ],
   "source": [
    "# Escreva seu código abaixo e pressione Shift + Enter para executar\n",
    "df[[\"peak-rpm\" , \"highway-mpg\",\"price\"]].corr()"
   ]
  },
  {
   "cell_type": "markdown",
   "metadata": {},
   "source": [
    "A variável \"highway-mpg\" tem uma correlação mais forte com \"price\", é aproximadamente -0,704692 em comparação com \"peak-rpm\" que é aproximadamente -0,101616"
   ]
  },
  {
   "cell_type": "markdown",
   "metadata": {
    "id": "okWlOGC3Dx6J"
   },
   "source": [
    "<details><summary>Click here for the solution</summary>\n",
    "\n",
    "```python\n",
    "# The variable \"highway-mpg\" has a stronger correlation with \"price\", it is approximate -0.704692  compared to \"peak-rpm\" which is approximate -0.101616. You can verify it using the following command:\n",
    "\n",
    "df[[\"peak-rpm\",\"highway-mpg\",\"price\"]].corr()\n",
    "\n",
    "```\n",
    "\n",
    "</details>\n"
   ]
  },
  {
   "cell_type": "markdown",
   "metadata": {},
   "source": [
    "\n",
    "\n",
    "\n",
    "\n",
    "Nós olhamos para a propagação dos resíduos:\n",
    "\n",
    "- Se os pontos em um gráfico residual forem espalhados aleatoriamente em torno do eixo x , um modelo linear é apropriado para os dados. Por que é que? Resíduos distribuídos aleatoriamente significam que a variância é constante e, portanto, o modelo linear é um bom ajuste para esses dados."
   ]
  },
  {
   "cell_type": "markdown",
   "metadata": {
    "id": "rn00EDjaDx6K"
   },
   "source": [
    "<h3> Gráfico Residual</h3>\n",
    "\n",
    "<p>Uma boa maneira de visualizar a variação dos dados é usar um gráfico residual.</p>\n",
    "\n",
    "<p>O que é um <b>residual</b>?</p>\n",
    "\n",
    "<p>A diferença entre o valor observado (y) e o valor previsto (Yhat) é chamada de residual (e). Quando olhamos para um gráfico de regressão, o residual é a distância do ponto de dados à linha de regressão ajustada.</p>\n",
    "\n",
    "<p>Então o que é <b>residual plot</b>?</p>\n",
    "\n",
    "<p>Um gráfico residual é um gráfico que mostra os resíduos no eixo y vertical e a variável independente no eixo x horizontal.</p>\n",
    "\n",
    "<p>Em que prestamos atenção quando olhamos para um residual plot?</p>\n",
    "\n",
    "<p>Nós olhamos para a propagação dos resíduos:</p>\n",
    "\n",
    "<p>- Se os pontos em um gráfico residual forem espalhados  <b>aleatoriamente em torno do eixo x </b>,  <b>um modelo linear é apropriado </b> para os dados. Por quê? Resíduos distribuídos aleatoriamente significam que a variância é constante e, portanto, o modelo linear é um bom ajuste para esses dados.</p>\n"
   ]
  },
  {
   "cell_type": "code",
   "execution_count": 29,
   "metadata": {
    "id": "PSbe05iVDx6K",
    "scrolled": false
   },
   "outputs": [
    {
     "name": "stderr",
     "output_type": "stream",
     "text": [
      "C:\\Users\\edlai\\anaconda3\\lib\\site-packages\\seaborn\\_decorators.py:36: FutureWarning: Pass the following variables as keyword args: x, y. From version 0.12, the only valid positional argument will be `data`, and passing other arguments without an explicit keyword will result in an error or misinterpretation.\n",
      "  warnings.warn(\n"
     ]
    },
    {
     "data": {
      "image/png": "[encoded data removed]",
      "text/plain": [
       "<Figure size 360x288 with 1 Axes>"
      ]
     },
     "metadata": {
      "needs_background": "light"
     },
     "output_type": "display_data"
    }
   ],
   "source": [
    "width = 5\n",
    "height = 4\n",
    "plt.figure(figsize=(width, height))\n",
    "sns.residplot(df['highway-mpg'], df['price'])\n",
    "plt.show()"
   ]
  },
  {
   "cell_type": "markdown",
   "metadata": {
    "id": "KlCoOLt8Dx6M"
   },
   "source": [
    "<i>O que esse enredo está nos dizendo?</i>\n",
    "\n",
    "<p>Podemos ver neste gráfico residual que os resíduos não estão espalhados aleatoriamente em torno do eixo x, o que nos leva a acreditar que talvez um modelo não linear seja mais adequado para esses dados.</p>\n"
   ]
  },
  {
   "cell_type": "markdown",
   "metadata": {
    "id": "mGPGXJubDx6M"
   },
   "source": [
    "<h3>Regressão Linear Multipla</h3>\n"
   ]
  },
  {
   "cell_type": "markdown",
   "metadata": {
    "id": "N7ommLMPDx6N"
   },
   "source": [
    "<p>Como visualizamos um modelo de Regressão Linear Múltipla? Isso fica um pouco mais complicado porque você não pode visualizá-lo com regressão ou gráfico residual.\n",
    "\n",
    "</p>\n",
    "\n",
    "<p>Uma maneira de observar o ajuste do modelo é observar o <b>gráfico de distribuição</b> : podemos observar a distribuição dos valores ajustados que resultam do modelo e compará-la com a distribuição dos valores reais.</p>\n"
   ]
  },
  {
   "cell_type": "markdown",
   "metadata": {
    "id": "Q8nH7bBcDx6O"
   },
   "source": [
    "Vamos fazer uma predição \n"
   ]
  },
  {
   "cell_type": "code",
   "execution_count": 30,
   "metadata": {
    "id": "LKERn-fkDx6P"
   },
   "outputs": [],
   "source": [
    "Y_hat = lm.predict(Z)\n"
   ]
  },
  {
   "cell_type": "code",
   "execution_count": 31,
   "metadata": {
    "id": "XbStdYAmDx6P",
    "scrolled": false
   },
   "outputs": [
    {
     "name": "stderr",
     "output_type": "stream",
     "text": [
      "C:\\Users\\edlai\\anaconda3\\lib\\site-packages\\seaborn\\distributions.py:2551: FutureWarning: `distplot` is a deprecated function and will be removed in a future version. Please adapt your code to use either `displot` (a figure-level function with similar flexibility) or `kdeplot` (an axes-level function for kernel density plots).\n",
      "  warnings.warn(msg, FutureWarning)\n",
      "C:\\Users\\edlai\\anaconda3\\lib\\site-packages\\seaborn\\distributions.py:2551: FutureWarning: `distplot` is a deprecated function and will be removed in a future version. Please adapt your code to use either `displot` (a figure-level function with similar flexibility) or `kdeplot` (an axes-level function for kernel density plots).\n",
      "  warnings.warn(msg, FutureWarning)\n"
     ]
    },
    {
     "data": {
      "image/png": "[encoded data removed]",
      "text/plain": [
       "<Figure size 360x288 with 1 Axes>"
      ]
     },
     "metadata": {
      "needs_background": "light"
     },
     "output_type": "display_data"
    }
   ],
   "source": [
    "plt.figure(figsize=(width, height))\n",
    "\n",
    "\n",
    "ax1 = sns.distplot(df['price'], hist=False, color=\"r\", label=\"Actual Value\")\n",
    "sns.distplot(Y_hat, hist=False, color=\"b\", label=\"Fitted Values\" , ax=ax1)\n",
    "\n",
    "\n",
    "plt.title('Actual vs Fitted Values for Price')\n",
    "plt.xlabel('Price (in dollars)')\n",
    "plt.ylabel('Proportion of Cars')\n",
    "\n",
    "plt.show()\n",
    "plt.close()"
   ]
  },
  {
   "cell_type": "markdown",
   "metadata": {
    "id": "Uz5LnuRQDx6Q"
   },
   "source": [
    "<p>Podemos ver que os valores ajustados estão razoavelmente próximos dos valores reais, uma vez que as duas distribuições se sobrepõem um pouco. No entanto, definitivamente há espaço para melhorias.</p>\n"
   ]
  },
  {
   "cell_type": "markdown",
   "metadata": {
    "id": "JljXztJHDx6R"
   },
   "source": [
    "<h2>Parte 3: Regressão Polinomial e Pipelines</h2>\n"
   ]
  },
  {
   "cell_type": "markdown",
   "metadata": {
    "id": "Z93RGimtDx6R"
   },
   "source": [
    "\n",
    "\n",
    "<p><b>Regressão Polinomial</b> é um caso particular do modelo de regressão linear geral ou modelos de regressão linear múltipla.</p> \n",
    "<p>Obtemos relacionamentos não lineares ao elevar ao quadrado ou definir termos de ordem superior das variáveis preditoras</p>\n",
    "\n",
    "<p>Existem diferentes ordens de regressão polinomial:</p>\n"
   ]
  },
  {
   "cell_type": "markdown",
   "metadata": {
    "id": "vwcdEJ3dDx6R"
   },
   "source": [
    "<center><b>Quadratic - 2nd order</b></center>\n",
    "$$\n",
    "Yhat = a + b_1 X +b_2 X^2 \n",
    "$$\n",
    "\n",
    "<center><b>Cubic - 3rd order</b></center>\n",
    "$$\n",
    "Yhat = a + b_1 X +b_2 X^2 +b_3 X^3\\\\\\\\\n",
    "$$\n",
    "\n",
    "<center><b>Higher order</b>:</center>\n",
    "$$\n",
    "Y = a + b_1 X +b_2 X^2 +b_3 X^3 ....\\\\\\\\\n",
    "$$\n"
   ]
  },
  {
   "cell_type": "markdown",
   "metadata": {
    "id": "KoKniaH9Dx6S"
   },
   "source": [
    "<p>Vimos anteriormente que um modelo linear não fornece o melhor ajuste ao usar highway-mpg como variável preditora. Vamos ver se podemos tentar ajustar um modelo polinomial aos dados.</p>\n"
   ]
  },
  {
   "cell_type": "markdown",
   "metadata": {
    "id": "CSw59gRTDx6S"
   },
   "source": [
    "<p>Usaremos a seguinte função para plotar os dados:</p>\n"
   ]
  },
  {
   "cell_type": "code",
   "execution_count": 32,
   "metadata": {
    "id": "gBrGeIU0Dx6T"
   },
   "outputs": [],
   "source": [
    "def PlotPolly(model, independent_variable, dependent_variabble, Name):\n",
    "    x_new = np.linspace(15, 55, 100)\n",
    "    y_new = model(x_new)\n",
    "\n",
    "    plt.plot(independent_variable, dependent_variabble, '.', x_new, y_new, '-')\n",
    "    plt.title('Polynomial Fit with Matplotlib for Price ~ Length')\n",
    "    ax = plt.gca()\n",
    "    ax.set_facecolor((0.898, 0.898, 0.898))\n",
    "    fig = plt.gcf()\n",
    "    plt.xlabel(Name)\n",
    "    plt.ylabel('Price of Cars')\n",
    "\n",
    "    plt.show()\n",
    "    plt.close()"
   ]
  },
  {
   "cell_type": "markdown",
   "metadata": {
    "id": "0UQantdEDx6T"
   },
   "source": [
    "Vamos pegas as variáveis "
   ]
  },
  {
   "cell_type": "code",
   "execution_count": 33,
   "metadata": {
    "id": "xffVyBW3Dx6U"
   },
   "outputs": [],
   "source": [
    "x = df['highway-mpg']\n",
    "y = df['price']"
   ]
  },
  {
   "cell_type": "markdown",
   "metadata": {
    "id": "g1FC4IwLDx6U"
   },
   "source": [
    "Vamos ajustar o polinômio usando a função <b>polyfit</b> e , em seguida, usar a função<b> poly1d</b> para exibir a função polinomial.\n"
   ]
  },
  {
   "cell_type": "code",
   "execution_count": 34,
   "metadata": {
    "id": "wscx54D8Dx6V"
   },
   "outputs": [
    {
     "name": "stdout",
     "output_type": "stream",
     "text": [
      "        3         2\n",
      "-1.557 x + 204.8 x - 8965 x + 1.379e+05\n"
     ]
    }
   ],
   "source": [
    "# Here we use a polynomial of the 3rd order (cubic) \n",
    "f = np.polyfit(x, y, 3)\n",
    "p = np.poly1d(f)\n",
    "print(p)"
   ]
  },
  {
   "cell_type": "markdown",
   "metadata": {
    "id": "0upAI0ZgDx6V"
   },
   "source": [
    "Vamos representar graficamente a função.\n"
   ]
  },
  {
   "cell_type": "code",
   "execution_count": 35,
   "metadata": {
    "id": "elr-cQ66Dx6V"
   },
   "outputs": [
    {
     "data": {
      "image/png": "[encoded data removed]",
      "text/plain": [
       "<Figure size 432x288 with 1 Axes>"
      ]
     },
     "metadata": {
      "needs_background": "light"
     },
     "output_type": "display_data"
    }
   ],
   "source": [
    "PlotPolly(p, x, y, 'highway-mpg')"
   ]
  },
  {
   "cell_type": "code",
   "execution_count": 36,
   "metadata": {
    "id": "tPHiz9DzDx6W"
   },
   "outputs": [
    {
     "data": {
      "text/plain": [
       "array([-1.55663829e+00,  2.04754306e+02, -8.96543312e+03,  1.37923594e+05])"
      ]
     },
     "execution_count": 36,
     "metadata": {},
     "output_type": "execute_result"
    }
   ],
   "source": [
    "np.polyfit(x, y, 3)"
   ]
  },
  {
   "cell_type": "markdown",
   "metadata": {
    "id": "G2FmZhaIDx6W"
   },
   "source": [
    "<p>Já podemos ver na plotagem que este modelo polinomial tem um desempenho melhor do que o modelo linear. Isso ocorre porque a função polinomial gerada \"atinge\" mais os pontos de dados.</p>\n"
   ]
  },
  {
   "cell_type": "markdown",
   "metadata": {
    "id": "yhLcKHZKDx6X"
   },
   "source": [
    "<div class=\"alert alert-danger alertdanger\" style=\"margin-top: 20px\">\n",
    "<h1>Question  4:</h1>\n",
    "<b>Criar modelo polinomial de ordem 11 com as variaveis x e y acima.</b>\n",
    "</div>\n"
   ]
  },
  {
   "cell_type": "code",
   "execution_count": 37,
   "metadata": {
    "id": "klhpz-eqDx6X"
   },
   "outputs": [
    {
     "data": {
      "image/png": "[encoded data removed]",
      "text/plain": [
       "<Figure size 432x288 with 1 Axes>"
      ]
     },
     "metadata": {
      "needs_background": "light"
     },
     "output_type": "display_data"
    }
   ],
   "source": [
    "# Escreva seu código abaixo e pressione Shift + Enter para executar\n",
    "x = df['highway-mpg']\n",
    "y = df['price']\n",
    "polinomial=np.polyfit(x,y,11)\n",
    "poli=np.poly1d(polinomial)\n",
    "poli\n",
    "PlotPolly(poli,x,y,\"highway-mpg\")"
   ]
  },
  {
   "cell_type": "markdown",
   "metadata": {
    "id": "zsIfzAMmDx6Y"
   },
   "source": [
    "<details><summary>Click here for the solution</summary>\n",
    "\n",
    "```python\n",
    "# Here we use a polynomial of the 11rd order (cubic) \n",
    "f1 = np.polyfit(x, y, 11)\n",
    "p1 = np.poly1d(f1)\n",
    "print(p1)\n",
    "PlotPolly(p1,x,y, 'Highway MPG')\n",
    "\n",
    "```\n",
    "\n",
    "</details>\n"
   ]
  },
  {
   "cell_type": "markdown",
   "metadata": {
    "id": "2B0Cd41SDx6Y"
   },
   "source": [
    "<p>A expressão analítica para a função polinomial multivariada é complicada. Por exemplo, a expressão para um polinômio de segunda ordem (grau = 2) com duas variáveis ​​é dada por:</p>\n"
   ]
  },
  {
   "cell_type": "markdown",
   "metadata": {
    "id": "T602Yb5VDx6Z"
   },
   "source": [
    "$$\n",
    "Yhat = a + b_1 X_1 +b_2 X_2 +b_3 X_1 X_2+b_4 X_1^2+b_5 X_2^2\n",
    "$$\n"
   ]
  },
  {
   "cell_type": "markdown",
   "metadata": {
    "id": "LfRg0PVXDx6Z"
   },
   "source": [
    "Podemos realizar uma transformação polinomial em vários recursos. Primeiro, importamos o módulo:\n",
    "\n",
    "\n"
   ]
  },
  {
   "cell_type": "code",
   "execution_count": 38,
   "metadata": {
    "id": "pBuQMpWwDx6a"
   },
   "outputs": [],
   "source": [
    "from sklearn.preprocessing import PolynomialFeatures"
   ]
  },
  {
   "cell_type": "markdown",
   "metadata": {
    "id": "hutRj5_QDx6a"
   },
   "source": [
    "Criamos um objeto <b>PolynomialFeatures</b>de grau 2:\n"
   ]
  },
  {
   "cell_type": "code",
   "execution_count": 39,
   "metadata": {
    "id": "cQ4_SN6vDx6a"
   },
   "outputs": [
    {
     "data": {
      "text/plain": [
       "PolynomialFeatures()"
      ]
     },
     "execution_count": 39,
     "metadata": {},
     "output_type": "execute_result"
    }
   ],
   "source": [
    "pr=PolynomialFeatures(degree=2)\n",
    "pr"
   ]
  },
  {
   "cell_type": "code",
   "execution_count": 40,
   "metadata": {
    "id": "gYR7S2oYDx6b"
   },
   "outputs": [],
   "source": [
    "# Ajustando o modelo \n",
    "\n",
    "Z_pr=pr.fit_transform(Z)"
   ]
  },
  {
   "cell_type": "markdown",
   "metadata": {
    "id": "XFiYtmyMDx6b"
   },
   "source": [
    "Os dados originais são de 201 amostras e 4 recursos\n"
   ]
  },
  {
   "cell_type": "code",
   "execution_count": 41,
   "metadata": {
    "id": "1fNOD1i-Dx6c"
   },
   "outputs": [
    {
     "data": {
      "text/plain": [
       "(201, 4)"
      ]
     },
     "execution_count": 41,
     "metadata": {},
     "output_type": "execute_result"
    }
   ],
   "source": [
    "Z.shape"
   ]
  },
  {
   "cell_type": "markdown",
   "metadata": {
    "id": "qHGI0CSlDx6h"
   },
   "source": [
    "Após a transformação, há 201 amostras e 15 recursos"
   ]
  },
  {
   "cell_type": "code",
   "execution_count": 42,
   "metadata": {
    "id": "ZoGYJ-ZoDx6i"
   },
   "outputs": [
    {
     "data": {
      "text/plain": [
       "(201, 15)"
      ]
     },
     "execution_count": 42,
     "metadata": {},
     "output_type": "execute_result"
    }
   ],
   "source": [
    "Z_pr.shape"
   ]
  },
  {
   "cell_type": "markdown",
   "metadata": {
    "id": "MnL2TsQIDx6i"
   },
   "source": [
    "<h2>Pipeline</h2>\n"
   ]
  },
  {
   "cell_type": "markdown",
   "metadata": {
    "id": "NJnTFRb4Dx6j"
   },
   "source": [
    "<p>Os pipelines de dados simplificam as etapas de processamento dos dados. Usamos o módulo <b>Pipeline </b>para criar um pipeline. Também usamos <b>StandardScaler</b> como uma etapa em nosso pipeline.</p> \n"
   ]
  },
  {
   "cell_type": "code",
   "execution_count": 43,
   "metadata": {
    "id": "v1QyGI4NDx6j"
   },
   "outputs": [],
   "source": [
    "from sklearn.pipeline import Pipeline\n",
    "from sklearn.preprocessing import StandardScaler"
   ]
  },
  {
   "cell_type": "markdown",
   "metadata": {
    "id": "taDFI6khDx6k"
   },
   "source": [
    "Criamos o pipeline, criando uma lista de tuplas incluindo o nome do modelo ou estimador e seu construtor correspondente."
   ]
  },
  {
   "cell_type": "code",
   "execution_count": 44,
   "metadata": {
    "id": "08HPDL_yDx6k"
   },
   "outputs": [],
   "source": [
    "Input=[('scale',StandardScaler()),\\\n",
    "       ('polynomial', PolynomialFeatures(include_bias=False)), ('model',LinearRegression())]"
   ]
  },
  {
   "cell_type": "markdown",
   "metadata": {
    "id": "wwaF5nUVDx6l"
   },
   "source": [
    "Inserimos a lista como um argumento para o construtor do pipeline\n"
   ]
  },
  {
   "cell_type": "code",
   "execution_count": 45,
   "metadata": {
    "id": "6PDOHhAyDx6l"
   },
   "outputs": [
    {
     "data": {
      "text/plain": [
       "Pipeline(steps=[('scale', StandardScaler()),\n",
       "                ('polynomial', PolynomialFeatures(include_bias=False)),\n",
       "                ('model', LinearRegression())])"
      ]
     },
     "execution_count": 45,
     "metadata": {},
     "output_type": "execute_result"
    }
   ],
   "source": [
    "pipe=Pipeline(Input)\n",
    "pipe"
   ]
  },
  {
   "cell_type": "markdown",
   "metadata": {
    "id": "sacuo9YPDx6l"
   },
   "source": [
    "Podemos normalizar os dados, realizar uma transformação e ajustar o modelo simultaneamente. \n"
   ]
  },
  {
   "cell_type": "code",
   "execution_count": 46,
   "metadata": {
    "id": "-1SA0iNbDx6m"
   },
   "outputs": [
    {
     "data": {
      "text/plain": [
       "Pipeline(steps=[('scale', StandardScaler()),\n",
       "                ('polynomial', PolynomialFeatures(include_bias=False)),\n",
       "                ('model', LinearRegression())])"
      ]
     },
     "execution_count": 46,
     "metadata": {},
     "output_type": "execute_result"
    }
   ],
   "source": [
    "pipe.fit(Z,y)"
   ]
  },
  {
   "cell_type": "markdown",
   "metadata": {
    "id": "4NCvh1A1Dx6m"
   },
   "source": [
    " Da mesma forma, podemos normalizar os dados, realizar uma transformação e produzir uma previsão simultaneamente\n"
   ]
  },
  {
   "cell_type": "code",
   "execution_count": 47,
   "metadata": {
    "id": "uY2-shuTDx6m"
   },
   "outputs": [
    {
     "data": {
      "text/plain": [
       "array([13102.74784201, 13102.74784201, 18225.54572197, 10390.29636555])"
      ]
     },
     "execution_count": 47,
     "metadata": {},
     "output_type": "execute_result"
    }
   ],
   "source": [
    "ypipe=pipe.predict(Z)\n",
    "ypipe[0:4]"
   ]
  },
  {
   "cell_type": "markdown",
   "metadata": {
    "id": "QyOCOUXYDx6n"
   },
   "source": [
    "<div class=\"alert alert-danger alertdanger\" style=\"margin-top: 20px\">\n",
    "<h1>Question 5:</h1>\n",
    "<b>Crie um  pipeline que padronize os dados , e em seguida realize a previsão usando um modelo de regressão linear usando os recursos Z e alvos y</b>\n",
    "</div>\n"
   ]
  },
  {
   "cell_type": "code",
   "execution_count": 48,
   "metadata": {
    "id": "gnma1DneDx6n"
   },
   "outputs": [
    {
     "data": {
      "text/plain": [
       "array([13699.11161184, 13699.11161184, 19051.65470233, 10620.36193015,\n",
       "       15521.31420211, 13869.66673213, 15456.16196732, 15974.00907672,\n",
       "       17612.35917161, 10722.32509097])"
      ]
     },
     "execution_count": 48,
     "metadata": {},
     "output_type": "execute_result"
    }
   ],
   "source": [
    "# Escreva seu código abaixo e pressione Shift + Enter para executar\n",
    "Input=[('scale',StandardScaler()),('model',LinearRegression())]\n",
    "pipe=Pipeline(Input)\n",
    "pipe.fit(Z,y)\n",
    "ypipe=pipe.predict(Z)\n",
    "ypipe[0:10]"
   ]
  },
  {
   "cell_type": "markdown",
   "metadata": {
    "id": "G_eZDmBoDx6o"
   },
   "source": [
    "<details><summary>Click here for the solution</summary>\n",
    "\n",
    "```python\n",
    "Input=[('scale',StandardScaler()),('model',LinearRegression())]\n",
    "\n",
    "pipe=Pipeline(Input)\n",
    "\n",
    "pipe.fit(Z,y)\n",
    "\n",
    "ypipe=pipe.predict(Z)\n",
    "ypipe[0:10]\n",
    "\n",
    "```\n",
    "\n",
    "</details>\n"
   ]
  },
  {
   "cell_type": "markdown",
   "metadata": {
    "id": "5v2Rphc9Dx6o"
   },
   "source": [
    "<h2>Parte 4: Medidas para Avaliação In-Sample</h2>\n"
   ]
  },
  {
   "cell_type": "markdown",
   "metadata": {
    "id": "SDJcB3lADx6o"
   },
   "source": [
    "\n",
    "\n",
    "<p>Ao avaliar nossos modelos, não queremos apenas visualizar os resultados, mas também queremos uma medida quantitativa para determinar a precisão do modelo.</p>\n",
    "\n",
    "<p>Duas medidas muito importantes que costumam ser usadas em Estatística para determinar a precisão de um modelo são:</p>\n",
    "<ul>\n",
    "    <li><b>R^2 / R-squared</b></li>\n",
    "    <li><b>Mean Squared Error (MSE)</b></li>\n",
    "</ul>\n",
    "    \n",
    "<b>R-squared</b>\n",
    "\n",
    "<p>R squared, R ao quadrado, também conhecido como coeficiente de determinação, é uma medida para indicar a proximidade dos dados da linha de regressão ajustada.</p>\n",
    "    \n",
    "<p>O valor do R-quadrado é a porcentagem de variação da variável de resposta (y) que é explicada por um modelo linear.</p>\n",
    "\n",
    "<b>Mean Squared Error (MSE)</b>\n",
    "\n",
    "<p>O erro quadrático médio MSE mede a média dos quadrados dos erros, ou seja, a diferença entre o valor real (y) e o valor estimado (ŷ).</p>\n"
   ]
  },
  {
   "cell_type": "markdown",
   "metadata": {
    "id": "aS5Uhd0zDx6p"
   },
   "source": [
    "<h3>Modelo 1: Regressão Linear Simples</h3>\n"
   ]
  },
  {
   "cell_type": "markdown",
   "metadata": {
    "id": "Eju-Y4kCDx6q"
   },
   "source": [
    "Vamos calcular o  R^2\n"
   ]
  },
  {
   "cell_type": "code",
   "execution_count": 49,
   "metadata": {
    "id": "VZnZNvqlDx6q",
    "scrolled": true
   },
   "outputs": [
    {
     "name": "stdout",
     "output_type": "stream",
     "text": [
      "O R-square é:  0.4965911884339175\n"
     ]
    }
   ],
   "source": [
    "#highway_mpg_fit\n",
    "\n",
    "lm.fit(X, Y)\n",
    "\n",
    "# Find the R^2\n",
    "print('O R-square é: ', lm.score(X, Y))"
   ]
  },
  {
   "cell_type": "markdown",
   "metadata": {
    "id": "pfbmxxd2Dx6q"
   },
   "source": [
    "Podemos dizer que ~ 49,659% da variação do preço é explicada por este modelo linear simples \"horsepower_fit\".\n"
   ]
  },
  {
   "cell_type": "markdown",
   "metadata": {
    "id": "Wy43dvZYDx6r"
   },
   "source": [
    "Vamos clacular o MSE\n"
   ]
  },
  {
   "cell_type": "markdown",
   "metadata": {
    "id": "FjRBlpncDx6r"
   },
   "source": [
    "Podemos prever a saída, ou seja, \"yhat\" usando o método de previsão, onde X é a variável de entrada:\n"
   ]
  },
  {
   "cell_type": "code",
   "execution_count": 50,
   "metadata": {
    "id": "Ry_SR521Dx6s"
   },
   "outputs": [
    {
     "name": "stdout",
     "output_type": "stream",
     "text": [
      " A saída dos primeiros quatro valores são : [[16236.50464347]\n",
      " [16236.50464347]\n",
      " [17058.23802179]\n",
      " [13771.3045085 ]]\n"
     ]
    }
   ],
   "source": [
    "Yhat=lm.predict(X)\n",
    "\n",
    "print(' A saída dos primeiros quatro valores são :', Yhat[0:4])"
   ]
  },
  {
   "cell_type": "markdown",
   "metadata": {
    "id": "mOKpSucCDx6s"
   },
   "source": [
    "\n",
    "vamos importar a função <b>mean_squared_error</b> dos módulos <b>metrics</b>\n"
   ]
  },
  {
   "cell_type": "code",
   "execution_count": 51,
   "metadata": {
    "id": "MLn5jU8gDx6s"
   },
   "outputs": [],
   "source": [
    "from sklearn.metrics import mean_squared_error"
   ]
  },
  {
   "cell_type": "markdown",
   "metadata": {
    "id": "f0mnXVH6Dx6t"
   },
   "source": [
    "Comparamos os resultados previstos com os resultados reais"
   ]
  },
  {
   "cell_type": "code",
   "execution_count": 52,
   "metadata": {
    "id": "URPdUEYJDx6u"
   },
   "outputs": [
    {
     "name": "stdout",
     "output_type": "stream",
     "text": [
      " O erro quadrático médio do preço e o valor previsto são:  31635042.944639895\n"
     ]
    }
   ],
   "source": [
    "mse = mean_squared_error(df['price'], Yhat)\n",
    "print(' O erro quadrático médio do preço e o valor previsto são: ', mse)"
   ]
  },
  {
   "cell_type": "markdown",
   "metadata": {
    "id": "by0pnf3IDx6u"
   },
   "source": [
    "<h3>Modelo 2: Regressão Linear Múltipla</h3>\n"
   ]
  },
  {
   "cell_type": "markdown",
   "metadata": {
    "id": "ss6A2FEhDx6v"
   },
   "source": [
    "Vamos calcular o  R^2\n"
   ]
  },
  {
   "cell_type": "code",
   "execution_count": 53,
   "metadata": {
    "id": "XxrVDBbsDx6w"
   },
   "outputs": [
    {
     "name": "stdout",
     "output_type": "stream",
     "text": [
      "The R-square is:  0.8093562806577457\n"
     ]
    }
   ],
   "source": [
    "# fit the model \n",
    "lm.fit(Z, df['price'])\n",
    "# Find the R^2\n",
    "print('The R-square is: ', lm.score(Z, df['price']))"
   ]
  },
  {
   "cell_type": "markdown",
   "metadata": {
    "id": "24_OmE5pDx6x"
   },
   "source": [
    "Podemos dizer que ~ 80,896% da variação de preço é explicada por esta regressão linear múltipla \"multi_fit\".\n"
   ]
  },
  {
   "cell_type": "markdown",
   "metadata": {
    "id": "t9WCP_JBDx6x"
   },
   "source": [
    "Vamos clacular o MSE\n"
   ]
  },
  {
   "cell_type": "markdown",
   "metadata": {
    "id": "RF_dQp7_Dx6y"
   },
   "source": [
    "Nó produzimos uma previsão:"
   ]
  },
  {
   "cell_type": "code",
   "execution_count": 54,
   "metadata": {
    "id": "kdq2jLGYDx6z"
   },
   "outputs": [],
   "source": [
    "Y_predict_multifit = lm.predict(Z)"
   ]
  },
  {
   "cell_type": "markdown",
   "metadata": {
    "id": "mYhMNPO6Dx6z"
   },
   "source": [
    " Comparamos os resultados previstos com os resultados reais\n"
   ]
  },
  {
   "cell_type": "code",
   "execution_count": 55,
   "metadata": {
    "id": "MsxgBqNqDx60"
   },
   "outputs": [
    {
     "name": "stdout",
     "output_type": "stream",
     "text": [
      "O erro quadrático médio do preço e o valor previsto usando multifit são:  11980366.87072649\n"
     ]
    }
   ],
   "source": [
    "print('O erro quadrático médio do preço e o valor previsto usando multifit são: ', \\\n",
    "      mean_squared_error(df['price'], Y_predict_multifit))"
   ]
  },
  {
   "cell_type": "markdown",
   "metadata": {
    "id": "SNnO9aeiDx60"
   },
   "source": [
    "<h3>Modelo 3:  Ajuste Polinomial </h3>\n"
   ]
  },
  {
   "cell_type": "markdown",
   "metadata": {
    "id": "l9_TsBNHDx61"
   },
   "source": [
    "Vamso calcular o  R^2\n"
   ]
  },
  {
   "cell_type": "markdown",
   "metadata": {
    "id": "6lvvJ30yDx61"
   },
   "source": [
    "vamos importar a função <b>r2_score</b> das <b>metrics</b> do módulo, pois estamos usando uma função diferente.\n"
   ]
  },
  {
   "cell_type": "code",
   "execution_count": 56,
   "metadata": {
    "id": "TWtlw_M8Dx62"
   },
   "outputs": [],
   "source": [
    "from sklearn.metrics import r2_score"
   ]
  },
  {
   "cell_type": "markdown",
   "metadata": {
    "id": "k4RKY-SzDx62"
   },
   "source": [
    "Aplicamos a função para obter o valor de  r^2\n"
   ]
  },
  {
   "cell_type": "code",
   "execution_count": 57,
   "metadata": {
    "id": "MueWKZ6SDx63"
   },
   "outputs": [
    {
     "name": "stdout",
     "output_type": "stream",
     "text": [
      "O valor do  R-square value é:  0.674194666390652\n"
     ]
    }
   ],
   "source": [
    "r_squared = r2_score(y, p(x))\n",
    "print('O valor do  R-square value é: ', r_squared)"
   ]
  },
  {
   "cell_type": "markdown",
   "metadata": {
    "id": "g1W9j8fcDx63"
   },
   "source": [
    "Podemos dizer que ~ 67,419% da variação de preço é explicada por este ajuste polinomial\n"
   ]
  },
  {
   "cell_type": "markdown",
   "metadata": {
    "id": "hmhzm4EYDx64"
   },
   "source": [
    "<h3>MSE</h3>\n"
   ]
  },
  {
   "cell_type": "markdown",
   "metadata": {
    "id": "kAsfmFeZDx64"
   },
   "source": [
    "Tambem podemos calcular o MSE:  \n"
   ]
  },
  {
   "cell_type": "code",
   "execution_count": 58,
   "metadata": {
    "id": "eo4BTY8hDx64"
   },
   "outputs": [
    {
     "data": {
      "text/plain": [
       "20474146.426361218"
      ]
     },
     "execution_count": 58,
     "metadata": {},
     "output_type": "execute_result"
    }
   ],
   "source": [
    "mean_squared_error(df['price'], p(x))"
   ]
  },
  {
   "cell_type": "markdown",
   "metadata": {
    "id": "cYH2vo1YDx65"
   },
   "source": [
    "<h2>Parte 5: Previsão e tomada de decisão</h2>\n",
    "<h3>Predição</h3>\n",
    "\n",
    "<p>Na seção anterior, treinamos o modelo usando o método  <b>fit</b> . Agora usaremos o método <b>predict</b> para produzir uma predição. Vamos importar <b>pyplot</b> para plotagem; também usaremos algumas funções do numpy.</p>\n"
   ]
  },
  {
   "cell_type": "code",
   "execution_count": 59,
   "metadata": {
    "id": "h4hWKCQhDx65"
   },
   "outputs": [],
   "source": [
    "import matplotlib.pyplot as plt\n",
    "import numpy as np\n",
    "\n",
    "%matplotlib inline "
   ]
  },
  {
   "cell_type": "markdown",
   "metadata": {
    "id": "Z2MKIOtXDx66"
   },
   "source": [
    "Criando uma nova entrada \n"
   ]
  },
  {
   "cell_type": "code",
   "execution_count": 60,
   "metadata": {
    "id": "d_49YY1ODx66"
   },
   "outputs": [],
   "source": [
    "new_input=np.arange(1, 100, 1).reshape(-1, 1)"
   ]
  },
  {
   "cell_type": "markdown",
   "metadata": {
    "id": "xafdKMu8Dx66"
   },
   "source": [
    "Ajustando o modelo\n"
   ]
  },
  {
   "cell_type": "code",
   "execution_count": 61,
   "metadata": {
    "id": "Jqj2SKgCDx67"
   },
   "outputs": [
    {
     "data": {
      "text/plain": [
       "LinearRegression()"
      ]
     },
     "execution_count": 61,
     "metadata": {},
     "output_type": "execute_result"
    }
   ],
   "source": [
    "lm.fit(X, Y)\n",
    "lm"
   ]
  },
  {
   "cell_type": "markdown",
   "metadata": {
    "id": "MPKA86euDx67"
   },
   "source": [
    "Produzindo uma predição\n"
   ]
  },
  {
   "cell_type": "code",
   "execution_count": 62,
   "metadata": {
    "id": "PI0D_hRJDx68"
   },
   "outputs": [
    {
     "data": {
      "text/plain": [
       "array([[37601.57247984],\n",
       "       [36779.83910151],\n",
       "       [35958.10572319],\n",
       "       [35136.37234487],\n",
       "       [34314.63896655]])"
      ]
     },
     "execution_count": 62,
     "metadata": {},
     "output_type": "execute_result"
    }
   ],
   "source": [
    "yhat=lm.predict(new_input)\n",
    "yhat[0:5]"
   ]
  },
  {
   "cell_type": "markdown",
   "metadata": {
    "id": "MgkSEWeGDx68"
   },
   "source": [
    "Plotando os dados \n"
   ]
  },
  {
   "cell_type": "code",
   "execution_count": 63,
   "metadata": {
    "id": "pmo7G-GoDx68"
   },
   "outputs": [
    {
     "data": {
      "image/png": "[encoded data removed]",
      "text/plain": [
       "<Figure size 432x288 with 1 Axes>"
      ]
     },
     "metadata": {
      "needs_background": "light"
     },
     "output_type": "display_data"
    }
   ],
   "source": [
    "plt.plot(new_input, yhat)\n",
    "plt.show()"
   ]
  },
  {
   "cell_type": "markdown",
   "metadata": {
    "id": "Ry355iiRDx69"
   },
   "source": [
    "<h3>Tomada de decisão: Determinando um bom ajuste do modelo</h3>\n"
   ]
  },
  {
   "cell_type": "markdown",
   "metadata": {
    "id": "3TBzpBeDDx69"
   },
   "source": [
    "<p>Agora que visualizamos os diferentes modelos e geramos os valores R-quadrado e MSE para os ajustes, como determinamos um bom ajuste do modelo?\n",
    "\n",
    "<ul>\n",
    "    <li><i>O que é um bom valor de R ao quadrado?</i></li>\n",
    "</ul>\n",
    "</p>\n",
    "\n",
    "<p>Ao comparar modelos, o modelo com o valor de R quadrado mais alto se ajusta melhor aos dados.\n",
    "<ul>\n",
    "    <li><i>O que é um bom MSE?</i></li>\n",
    "</ul>\n",
    "</p>\n",
    "\n",
    "<p>Ao comparar modelos, o modelo com o <b>menor valor de MSE</b> é um melhor ajuste para os dados.</p>\n",
    "\n",
    "<h3>Vamos dar uma olhada nos valores dos diferentes modelos.</h3></p>\n",
    "<p><b>Regressão linear simples</b>: usando Highway-mpg como variável preditora \"price\".\n",
    "<ul>\n",
    "    <li>R-squared: 0.49659118843391759</li>\n",
    "    <li>MSE: 3.16 x10^7</li>\n",
    "</ul>\n",
    "</p>\n",
    "    \n",
    "<p><b>Regressão Linear Múltipla</b> usando: Using Horsepower, Curb-weight, Engine-size, and Highway-mpg como variáveis preditoras de \"Price.\"\n",
    "<ul>\n",
    "    <li>R-squared: 0.80896354913783497</li>\n",
    "    <li>MSE: 1.2 x10^7</li>\n",
    "</ul>\n",
    "</p>\n",
    "    \n",
    "<p><b>Ajuste Polinomial</b>: Usando Highway-mpg  como variável preditora de \"price\".\n",
    "<ul>\n",
    "    <li>R-squared: 0.6741946663906514</li>\n",
    "    <li>MSE: 2.05 x 10^7</li>\n",
    "</ul>\n",
    "</p>\n"
   ]
  },
  {
   "cell_type": "markdown",
   "metadata": {
    "id": "9AwVvZHhDx6-"
   },
   "source": [
    "<h3>Modelo de regressão linear simples (SLR) versus modelo de regressão linear múltipla (MLR)</h3>\n"
   ]
  },
  {
   "cell_type": "markdown",
   "metadata": {
    "id": "ap9ZABclDx6-"
   },
   "source": [
    "\n",
    "\n",
    "\n",
    "<p>Normalmente, quanto mais variáveis ​​você tiver, melhor será a previsão do seu modelo, mas isso nem sempre é verdade. Às vezes, você pode não ter dados suficientes, pode ter problemas numéricos ou muitas das variáveis ​​podem não ser úteis e ou mesmo agir como ruído. Como resultado, você deve sempre verificar o MSE e R ^ 2.</p>\n",
    "\n",
    "<p>Assim, para poder comparar os resultados dos modelos MLR vs SLR, olhamos para uma combinação de R-quadrado e MSE para tirar a melhor conclusão sobre o ajuste do modelo.\n",
    "<ul>\n",
    "    <li><b> MSE</b> de SLR é 3,16x10 ^ 7, enquanto MLR tem um MSE de 1,2 x10 ^ 7. Nota-se O MSE do MLR é muito menor.</li><br>\n",
    "    <li><b>R-squared</b>: neste caso, também podemos ver que há uma grande diferença entre o R-squared do SLR e o R-quadrado do MLR. O R-quadrado para o SLR (~ 0,497) é muito pequeno em comparação com o R-quadrado para o MLR (~ 0,809).</li>\n",
    "</ul>\n",
    "</p>\n",
    "O R-square em combinação com o MSE mostra que o MLR parece ser o modelo mais adequado neste caso, em comparação com o SLR.\n",
    ".<br><br>\n"
   ]
  },
  {
   "cell_type": "markdown",
   "metadata": {
    "id": "jPdTUuqWDx6_"
   },
   "source": [
    "<h3>Modelo Linear Simples (SLR) vs Ajuste Polinomial</h3>\n"
   ]
  },
  {
   "cell_type": "markdown",
   "metadata": {
    "id": "syDuNcArDx7A"
   },
   "source": [
    "\n",
    "\n",
    "\n",
    "\n",
    "\n",
    "<ul>\n",
    "    <li><b>MSE</b>:Podemos ver que o Polinomial Fit derrubou o MSE, já que este MSE é menor que o do SLR.</li><br</br> \n",
    "    <li><b>R-squared</b>: O R-squared do  Polyfit é maior do que o R-quadrado para o SLR, então o Polinomial Fit também aumentou um pouco o R-quadrado.</li>\n",
    "</ul>\n",
    "<p>Uma vez que o ajuste polinomial resultou em um MSE menor e um R-quadrado maior, podemos concluir que este foi um modelo de ajuste melhor do que a regressão linear simples para prever Preço com Highway-mpg como variável preditora.</p>\n"
   ]
  },
  {
   "cell_type": "markdown",
   "metadata": {
    "id": "10FbMxP4Dx7A"
   },
   "source": [
    "<h3>Regressão Linear Múltipla (MLR) vs Ajuste Polinomial</h3>\n"
   ]
  },
  {
   "cell_type": "markdown",
   "metadata": {
    "id": "VPRYkUFADx7B"
   },
   "source": [
    "MSE : O MSE para o MLR é menor do que o MSE para o ajuste polinomial.\n",
    "R-quadrado : O R-quadrado para o MLR também é muito maior do que para o ajuste polinomial.\n",
    "\n",
    "\n",
    "<ul>\n",
    "    <li><b>MSE</b>:O MSE para o MLR é menor do que o MSE para o Polynomial Fit.</li>\n",
    "    <li><b>R-squared</b>: O R-squared do MLR também é muito maior do que para o ajuste polinomial.</li>\n",
    "</ul>\n"
   ]
  },
  {
   "cell_type": "markdown",
   "metadata": {
    "id": "cathuqjlDx7B"
   },
   "source": [
    "<h2>Conclusão:</h2>\n"
   ]
  },
  {
   "cell_type": "markdown",
   "metadata": {
    "id": "T46ETmMWDx7C"
   },
   "source": [
    "\n",
    "<p>Comparando esses três modelos, concluímos que o<b> modelo MLR </b>é o melhor modelo para ser capaz de prever o preço de nosso conjunto de dados.</p><p> Esse resultado faz sentido, uma vez que temos 27 variáveis no total, e sabemos que mais de uma dessas variáveis são preditores potenciais do preço final do carro.</p>\n"
   ]
  },
  {
   "cell_type": "markdown",
   "metadata": {
    "id": "P-Jjid1EDx7D"
   },
   "source": [
    "### Obrigado !\n",
    "\n",
    "## Author\n",
    "\n",
    "<a href=\"https://www.linkedin.com/in/joseph-s-50398b136/\" target=\"_blank\">Joseph Santarcangelo</a>\n",
    "\n",
    "### Other Contributors\n",
    "\n",
    "<a href=\"https://www.linkedin.com/in/mahdi-noorian-58219234/\" target=\"_blank\">Mahdi Noorian PhD</a>\n",
    "\n",
    "Bahare Talayian\n",
    "\n",
    "Eric Xiao\n",
    "\n",
    "Steven Dong\n",
    "\n",
    "Parizad\n",
    "\n",
    "Hima Vasudevan\n",
    "\n",
    "<a href=\"https://www.linkedin.com/in/fiorellawever/\" target=\"_blank\">Fiorella Wenver</a>\n",
    "\n",
    "<a href=\" https://www.linkedin.com/in/yi-leng-yao-84451275/ \" target=\"_blank\" >Yi Yao</a>.\n",
    "\n",
    "## Change Log\n",
    "\n",
    "| Date (YYYY-MM-DD) | Version | Changed By | Change Description                            |\n",
    "| ----------------- | ------- | ---------- | --------------------------------------------- |\n",
    "| 2020-10-30        | 2.2     | Lakshmi    | Changed url of csv                            |\n",
    "| 2020-09-09        | 2.1     | Lakshmi    | Fixes made in Polynomial Regression Equations |\n",
    "| 2020-08-27        | 2.0     | Lavanya    | Moved lab to course repo in GitLab            |\n",
    "\n",
    "<hr>\n",
    "\n",
    "## <h3 align=\"center\"> © IBM Corporation 2020. All rights reserved. <h3/>\n"
   ]
  },
  {
   "cell_type": "code",
   "execution_count": null,
   "metadata": {},
   "outputs": [],
   "source": []
  }
 ],
 "metadata": {
  "colab": {
   "name": "Cópia de DA0101EN-4-Review-Model-Development.ipynb",
   "provenance": []
  },
  "kernelspec": {
   "display_name": "Python 3",
   "language": "python",
   "name": "python3"
  },
  "language_info": {
   "codemirror_mode": {
    "name": "ipython",
    "version": 3
   },
   "file_extension": ".py",
   "mimetype": "text/x-python",
   "name": "python",
   "nbconvert_exporter": "python",
   "pygments_lexer": "ipython3",
   "version": "3.8.5"
  }
 },
 "nbformat": 4,
 "nbformat_minor": 1
}
